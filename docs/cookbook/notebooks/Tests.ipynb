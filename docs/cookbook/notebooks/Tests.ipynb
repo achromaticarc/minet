{
 "cells": [
  {
   "cell_type": "code",
   "execution_count": 1,
   "id": "e7ef10fd-c34f-48f1-992b-8bddfaae0da5",
   "metadata": {
    "tags": []
   },
   "outputs": [],
   "source": [
    "import sys\n",
    "sys.path.append('../../../')\n",
    "from minet.notebook import run_command"
   ]
  },
  {
   "cell_type": "code",
   "execution_count": 44,
   "id": "313dc44b-ad03-4a32-9856-6663bcbef38a",
   "metadata": {
    "tags": []
   },
   "outputs": [
    {
     "name": "stdout",
     "output_type": "stream",
     "text": [
      "\u001b[2KFetching \u001b[38;5;237m━━━━━━━━━━━━\u001b[0m     91/10,003 urls ⠸ [  1%] in 2.71s (33.63/s eta: 4:56.0)s)^C\n",
      "\u001b[2KFetching \u001b[38;5;237m━━━━━━━━━━━━\u001b[0m     95/10,003 urls ⠧ [  1%] in 2.99s (31.81/s eta: 4:57.0)\u001b[1A\n",
      "\u001b[?25hPerforming clean shutdown by cancelling ongoing calls...\n",
      "This may take some seconds if you are hitting slow servers.\n",
      "Ctrl-C again if you want to force exit.\n"
     ]
    }
   ],
   "source": [
    "!cd ../../.. && python -m minet.cli fetch url -i ftest/resources/urls.csv -D --single-line -o /dev/null"
   ]
  },
  {
   "cell_type": "code",
   "execution_count": 36,
   "id": "e7fb6712-29df-414c-9c93-3a222f40aa42",
   "metadata": {
    "tags": []
   },
   "outputs": [
    {
     "name": "stdout",
     "output_type": "stream",
     "text": [
      "\u001b[2KScraping \u001b[38;5;237m━━━━━━━━━━━\u001b[0m 0/1 queries ⠴ - in 16.48s (?/s) total: 61 tweets             ^C\n",
      "\u001b[2KScraping \u001b[38;5;237m━━━━━━━━━━━\u001b[0m 0/1 queries ⠧ - in 16.62s (?/s) total: 61 tweets           \n",
      "\u001b[?25h"
     ]
    }
   ],
   "source": [
    "!cd ../../.. && python -m minet.cli tw scrape tweets test --single-line -o /dev/null"
   ]
  },
  {
   "cell_type": "code",
   "execution_count": 43,
   "id": "b2457c91-a354-42dd-9740-82cb661a19ab",
   "metadata": {
    "tags": []
   },
   "outputs": [
    {
     "name": "stdout",
     "output_type": "stream",
     "text": [
      "\u001b[2KParsing \u001b[32m━━━━━━━━━━━━━━━━━━━━━━━━━\u001b[0m 10,003/10,003 urls · [100%] in 4.06s (2.46k/s)a: 1.00s)1.00s)a: 1.00s)1.00s)\n",
      "\u001b[?25h"
     ]
    }
   ],
   "source": [
    "!cd ../../../ && python -m minet.cli url-parse url -i ftest/resources/urls.csv -o /dev/null"
   ]
  }
 ],
 "metadata": {
  "kernelspec": {
   "display_name": "Python 3 (ipykernel)",
   "language": "python",
   "name": "python3"
  },
  "language_info": {
   "codemirror_mode": {
    "name": "ipython",
    "version": 3
   },
   "file_extension": ".py",
   "mimetype": "text/x-python",
   "name": "python",
   "nbconvert_exporter": "python",
   "pygments_lexer": "ipython3",
   "version": "3.7.10"
  }
 },
 "nbformat": 4,
 "nbformat_minor": 5
}
