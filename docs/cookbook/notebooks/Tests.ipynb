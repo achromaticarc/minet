{
 "cells": [
  {
   "cell_type": "code",
   "execution_count": 1,
   "id": "e7ef10fd-c34f-48f1-992b-8bddfaae0da5",
   "metadata": {
    "tags": []
   },
   "outputs": [],
   "source": [
    "import sys\n",
    "sys.path.append('../../../')\n",
    "from minet.notebook import run_command"
   ]
  },
  {
   "cell_type": "code",
   "execution_count": 1,
   "id": "313dc44b-ad03-4a32-9856-6663bcbef38a",
   "metadata": {
    "tags": []
   },
   "outputs": [
    {
     "name": "stdout",
     "output_type": "stream",
     "text": [
      "\u001b[2KFetching \u001b[38;5;237m━━━━━━━━━━━━\u001b[0m     96/10,003 urls ⠸ [  1%] in 2.71s (35.38/s eta: 4:37.0)s)^C\n",
      "\u001b[2KFetching \u001b[38;5;237m━━━━━━━━━━━━\u001b[0m    104/10,003 urls ⠇ [  1%] in 3.08s (33.79/s eta: 4:38.0)\u001b[1A\n",
      "\u001b[?25hPerforming clean shutdown by cancelling ongoing calls...\n",
      "This may take some seconds if you are hitting slow servers.\n",
      "Ctrl-C again if you want to force exit.\n"
     ]
    }
   ],
   "source": [
    "!cd ../../.. && python -m minet.cli fetch url -i ftest/resources/urls.csv -D --simple-progress -o /dev/null"
   ]
  },
  {
   "cell_type": "code",
   "execution_count": 2,
   "id": "e7fb6712-29df-414c-9c93-3a222f40aa42",
   "metadata": {
    "tags": []
   },
   "outputs": [
    {
     "name": "stdout",
     "output_type": "stream",
     "text": [
      "\u001b[2KScraping \u001b[38;5;237m━━━━━━━━━━━\u001b[0m 0/1 queries ⠧ - in 11.79s (?/s) total: 38 tweets             \n",
      "\u001b[?25h\u001b[38;2;212;42;32mminet process was stopped because an error occurred!\u001b[0m\n",
      "Traceback (most recent call last):\n",
      "  File \"/Users/Yomgui/.pyenv/versions/3.7.10/lib/python3.7/runpy.py\", line 193, in _run_module_as_main\n",
      "    \"__main__\", mod_spec)\n",
      "  File \"/Users/Yomgui/.pyenv/versions/3.7.10/lib/python3.7/runpy.py\", line 85, in _run_code\n",
      "    exec(code, run_globals)\n",
      "  File \"/Users/Yomgui/code/minet/minet/cli/__main__.py\", line 18, in <module>\n",
      "    main()\n",
      "  File \"/Users/Yomgui/code/minet/minet/cli/__main__.py\", line 14, in main\n",
      "    run(\"minet\", __identifier__, MINET_COMMANDS)\n",
      "  File \"/Users/Yomgui/code/minet/minet/cli/utils.py\", line 49, in wrapper\n",
      "    fn(*args, **kwargs)\n",
      "  File \"/Users/Yomgui/code/minet/minet/cli/run.py\", line 142, in run\n",
      "    fn(cli_args)\n",
      "  File \"/Users/Yomgui/code/minet/minet/cli/utils.py\", line 440, in wrapper\n",
      "    return action(cli_args, *args, **additional_kwargs, **kwargs)\n",
      "  File \"/Users/Yomgui/code/minet/minet/cli/twitter/scrape.py\", line 81, in action\n",
      "    for data in iterator:\n",
      "  File \"/Users/Yomgui/code/minet/minet/twitter/api_scraper.py\", line 672, in search_tweets\n",
      "    query, locale, cursor, refs=refs\n",
      "  File \"/Users/Yomgui/code/minet/minet/web.py\", line 1307, in decorated\n",
      "    return retryer(fn, self, *args, **kwargs)\n",
      "  File \"/Users/Yomgui/code/minet/minet/web.py\", line 1201, in __call__\n",
      "    return super().__call__(fn, *args, **kwargs)\n",
      "  File \"/Users/Yomgui/.pyenv/versions/minet/lib/python3.7/site-packages/tenacity/__init__.py\", line 379, in __call__\n",
      "    do = self.iter(retry_state=retry_state)\n",
      "  File \"/Users/Yomgui/.pyenv/versions/minet/lib/python3.7/site-packages/tenacity/__init__.py\", line 314, in iter\n",
      "    return fut.result()\n",
      "  File \"/Users/Yomgui/.pyenv/versions/3.7.10/lib/python3.7/concurrent/futures/_base.py\", line 428, in result\n",
      "    return self.__get_result()\n",
      "  File \"/Users/Yomgui/.pyenv/versions/3.7.10/lib/python3.7/concurrent/futures/_base.py\", line 384, in __get_result\n",
      "    raise self._exception\n",
      "  File \"/Users/Yomgui/.pyenv/versions/minet/lib/python3.7/site-packages/tenacity/__init__.py\", line 382, in __call__\n",
      "    result = fn(*args, **kwargs)\n",
      "  File \"/Users/Yomgui/code/minet/minet/twitter/api_scraper.py\", line 591, in request_tweet_search\n",
      "    for tweet, meta in tweets_payload_iter(data):\n",
      "  File \"/Users/Yomgui/code/minet/minet/twitter/api_scraper.py\", line 382, in tweets_payload_iter\n",
      "    quoted_root = tweet_root[\"quoted_status_result\"][\"result\"]\n",
      "KeyError: 'result'\n"
     ]
    }
   ],
   "source": [
    "!cd ../../.. && python -m minet.cli tw scrape tweets test --simple-progress -o /dev/null"
   ]
  },
  {
   "cell_type": "code",
   "execution_count": 4,
   "id": "b2457c91-a354-42dd-9740-82cb661a19ab",
   "metadata": {
    "tags": []
   },
   "outputs": [
    {
     "name": "stdout",
     "output_type": "stream",
     "text": [
      "\u001b[2KParsing \u001b[32m━━━━━━━━━━━━━━━━━━━━━━━━━\u001b[0m 10,003/10,003 urls · [100%] in 4.03s (2.48k/s)a: 1.00s)1.00s)a: 1.00s)1.00s)\n",
      "\u001b[?25h"
     ]
    }
   ],
   "source": [
    "!cd ../../../ && python -m minet.cli url-parse url -i ftest/resources/urls.csv --simple-progress -o /dev/null"
   ]
  }
 ],
 "metadata": {
  "kernelspec": {
   "display_name": "Python 3 (ipykernel)",
   "language": "python",
   "name": "python3"
  },
  "language_info": {
   "codemirror_mode": {
    "name": "ipython",
    "version": 3
   },
   "file_extension": ".py",
   "mimetype": "text/x-python",
   "name": "python",
   "nbconvert_exporter": "python",
   "pygments_lexer": "ipython3",
   "version": "3.7.10"
  }
 },
 "nbformat": 4,
 "nbformat_minor": 5
}
